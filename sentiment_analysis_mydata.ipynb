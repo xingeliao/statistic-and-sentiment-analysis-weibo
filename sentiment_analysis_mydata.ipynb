{
 "cells": [
  {
   "cell_type": "code",
   "execution_count": 1,
   "metadata": {},
   "outputs": [],
   "source": [
    "#仅用我自己的data"
   ]
  },
  {
   "cell_type": "code",
   "execution_count": 3,
   "metadata": {},
   "outputs": [],
   "source": [
    "import pandas as pd\n",
    "import numpy as np"
   ]
  },
  {
   "cell_type": "code",
   "execution_count": 4,
   "metadata": {},
   "outputs": [
    {
     "data": {
      "text/html": [
       "<div>\n",
       "<style scoped>\n",
       "    .dataframe tbody tr th:only-of-type {\n",
       "        vertical-align: middle;\n",
       "    }\n",
       "\n",
       "    .dataframe tbody tr th {\n",
       "        vertical-align: top;\n",
       "    }\n",
       "\n",
       "    .dataframe thead th {\n",
       "        text-align: right;\n",
       "    }\n",
       "</style>\n",
       "<table border=\"1\" class=\"dataframe\">\n",
       "  <thead>\n",
       "    <tr style=\"text-align: right;\">\n",
       "      <th></th>\n",
       "      <th>text</th>\n",
       "      <th>target</th>\n",
       "    </tr>\n",
       "  </thead>\n",
       "  <tbody>\n",
       "    <tr>\n",
       "      <th>0</th>\n",
       "      <td>#旅游风情##通过生活# 当别的孩子还在玩泥巴的时候，9岁的澳洲小男孩Campbell每天都...</td>\n",
       "      <td>1</td>\n",
       "    </tr>\n",
       "    <tr>\n",
       "      <th>1</th>\n",
       "      <td>#跟着赛事去旅游# 国际米兰年末精彩行程：欧冠对阵巴塞罗那，联赛迎来罗马。梅阿查球场现场的极...</td>\n",
       "      <td>1</td>\n",
       "    </tr>\n",
       "    <tr>\n",
       "      <th>2</th>\n",
       "      <td>哇哦//@辣条娘:wooo//@神隐少女翡翠千寻:哇//@腐格格:像一个一个方块蛋糕 中间的...</td>\n",
       "      <td>1</td>\n",
       "    </tr>\n",
       "    <tr>\n",
       "      <th>3</th>\n",
       "      <td>超漂亮的圣家堂大教堂 2西班牙·巴塞罗那 ​</td>\n",
       "      <td>1</td>\n",
       "    </tr>\n",
       "    <tr>\n",
       "      <th>4</th>\n",
       "      <td>#欧洲# #欧洲旅游# Le point法国观点报报道：《威尼斯，阿姆斯特丹，巴塞罗那……很...</td>\n",
       "      <td>0</td>\n",
       "    </tr>\n",
       "    <tr>\n",
       "      <th>...</th>\n",
       "      <td>...</td>\n",
       "      <td>...</td>\n",
       "    </tr>\n",
       "    <tr>\n",
       "      <th>495</th>\n",
       "      <td>#欧洲旅行日记##西班牙##巴塞罗那##圣家族大教堂##巴特罗之家# 美到窒息的高迪作品 2...</td>\n",
       "      <td>1</td>\n",
       "    </tr>\n",
       "    <tr>\n",
       "      <th>496</th>\n",
       "      <td>#欧洲旅游# 巴塞罗那街头漫步—兰布朗大街、老城区。 2西班牙·波盖利亚市场 ​</td>\n",
       "      <td>1</td>\n",
       "    </tr>\n",
       "    <tr>\n",
       "      <th>497</th>\n",
       "      <td>#带着妈妈去旅游#深刻体会到年龄增长带来的力不从心，连续十几小时的机上生活，再也不想那么度过...</td>\n",
       "      <td>0</td>\n",
       "    </tr>\n",
       "    <tr>\n",
       "      <th>498</th>\n",
       "      <td>巴塞罗那不可错过又错过不了波盖利亚市场。说她不可错过，因为这个市场好多各种摊位，水果，火腿，...</td>\n",
       "      <td>1</td>\n",
       "    </tr>\n",
       "    <tr>\n",
       "      <th>499</th>\n",
       "      <td>圣家堂是一种无法言语的震撼！相机无法表达！语言无法表达！只有用眼睛看一眼那是一种留在心底的震...</td>\n",
       "      <td>1</td>\n",
       "    </tr>\n",
       "  </tbody>\n",
       "</table>\n",
       "<p>455 rows × 2 columns</p>\n",
       "</div>"
      ],
      "text/plain": [
       "                                                  text  target\n",
       "0    #旅游风情##通过生活# 当别的孩子还在玩泥巴的时候，9岁的澳洲小男孩Campbell每天都...       1\n",
       "1    #跟着赛事去旅游# 国际米兰年末精彩行程：欧冠对阵巴塞罗那，联赛迎来罗马。梅阿查球场现场的极...       1\n",
       "2    哇哦//@辣条娘:wooo//@神隐少女翡翠千寻:哇//@腐格格:像一个一个方块蛋糕 中间的...       1\n",
       "3                               超漂亮的圣家堂大教堂 2西班牙·巴塞罗那 ​       1\n",
       "4    #欧洲# #欧洲旅游# Le point法国观点报报道：《威尼斯，阿姆斯特丹，巴塞罗那……很...       0\n",
       "..                                                 ...     ...\n",
       "495  #欧洲旅行日记##西班牙##巴塞罗那##圣家族大教堂##巴特罗之家# 美到窒息的高迪作品 2...       1\n",
       "496           #欧洲旅游# 巴塞罗那街头漫步—兰布朗大街、老城区。 2西班牙·波盖利亚市场 ​       1\n",
       "497  #带着妈妈去旅游#深刻体会到年龄增长带来的力不从心，连续十几小时的机上生活，再也不想那么度过...       0\n",
       "498  巴塞罗那不可错过又错过不了波盖利亚市场。说她不可错过，因为这个市场好多各种摊位，水果，火腿，...       1\n",
       "499  圣家堂是一种无法言语的震撼！相机无法表达！语言无法表达！只有用眼睛看一眼那是一种留在心底的震...       1\n",
       "\n",
       "[455 rows x 2 columns]"
      ]
     },
     "execution_count": 4,
     "metadata": {},
     "output_type": "execute_result"
    }
   ],
   "source": [
    "data_set_new = pd.read_csv(r'C:\\Users\\Isa\\Desktop\\python\\weibo\\train_new_sample.csv',encoding = 'utf8')\n",
    "data_set_new = data_set_new[data_set_new['target'] != 3]\n",
    "data_set_new['target'] = np.where(data_set_new['target'] > 3, 1, 0)\n",
    "data_set_new"
   ]
  },
  {
   "cell_type": "code",
   "execution_count": 5,
   "metadata": {},
   "outputs": [],
   "source": [
    "%run topic_modeling.ipynb"
   ]
  },
  {
   "cell_type": "code",
   "execution_count": 6,
   "metadata": {},
   "outputs": [
    {
     "name": "stderr",
     "output_type": "stream",
     "text": [
      "Building prefix dict from the default dictionary ...\n",
      "Loading model from cache C:\\Users\\Isa\\AppData\\Local\\Temp\\jieba.cache\n",
      "Loading model cost 1.587 seconds.\n",
      "Prefix dict has been built successfully.\n"
     ]
    }
   ],
   "source": [
    "data_set_new[\"text\"] = data_set_new['text'].apply(chinese_word_segmentation)"
   ]
  },
  {
   "cell_type": "code",
   "execution_count": 7,
   "metadata": {},
   "outputs": [],
   "source": [
    "from sklearn.model_selection import train_test_split\n",
    "\n",
    "X_train, X_test, y_train, y_test = train_test_split(data_set_new['text'], \n",
    "                                                    data_set_new['target'], \n",
    "                                                    random_state=2)"
   ]
  },
  {
   "cell_type": "code",
   "execution_count": 8,
   "metadata": {},
   "outputs": [
    {
     "data": {
      "text/plain": [
       "0.65"
      ]
     },
     "execution_count": 8,
     "metadata": {},
     "output_type": "execute_result"
    }
   ],
   "source": [
    "from sklearn.feature_extraction.text import CountVectorizer\n",
    "from sklearn.naive_bayes import MultinomialNB\n",
    "from sklearn.metrics import roc_auc_score\n",
    "\n",
    "vect = CountVectorizer().fit(X_train)\n",
    "X_train_vectorized = vect.transform(X_train)\n",
    "X_test_vectorized = vect.transform(X_test)\n",
    "    \n",
    "clf = MultinomialNB(alpha = 0.1)\n",
    "clf.fit(X_train_vectorized, y_train)\n",
    "    \n",
    "y_predictions = clf.predict(X_test_vectorized)\n",
    "AUC  = roc_auc_score(y_test, y_predictions)\n",
    "AUC"
   ]
  },
  {
   "cell_type": "code",
   "execution_count": 9,
   "metadata": {},
   "outputs": [],
   "source": [
    "#from sklearn.feature_extraction.text import TfidfVectorizer\n",
    "#vect = TfidfVectorizer(min_df=3).fit(X_train)\n",
    "\n",
    "#X_train_vectorized = vect.transform(X_train)\n",
    "#X_test_vectorized = vect.transform(X_test)\n",
    "    \n",
    "#clf = MultinomialNB(alpha = 0.1)\n",
    "#clf.fit(X_train_vectorized, y_train)\n",
    "    \n",
    "#y_predictions = clf.predict(X_test_vectorized)\n",
    "#AUC  = roc_auc_score(y_test, y_predictions)\n",
    "#AUC"
   ]
  },
  {
   "cell_type": "code",
   "execution_count": 10,
   "metadata": {},
   "outputs": [],
   "source": [
    "def sentiment_analysis_mydata(test_text):\n",
    "#test_text = '没有什么好玩的，真的很难看，和网上说的完全不一样。东西也不好吃'\n",
    "    test_text = chinese_word_segmentation(test_text)\n",
    "    test_text=vect.transform([test_text]) \n",
    "    return clf.predict(test_text)"
   ]
  },
  {
   "cell_type": "code",
   "execution_count": null,
   "metadata": {},
   "outputs": [],
   "source": []
  }
 ],
 "metadata": {
  "kernelspec": {
   "display_name": "Python 3",
   "language": "python",
   "name": "python3"
  },
  "language_info": {
   "codemirror_mode": {
    "name": "ipython",
    "version": 3
   },
   "file_extension": ".py",
   "mimetype": "text/x-python",
   "name": "python",
   "nbconvert_exporter": "python",
   "pygments_lexer": "ipython3",
   "version": "3.8.3"
  }
 },
 "nbformat": 4,
 "nbformat_minor": 4
}
